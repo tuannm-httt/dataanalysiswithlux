{
 "cells": [
  {
   "cell_type": "code",
   "execution_count": 1,
   "id": "revolutionary-purse",
   "metadata": {},
   "outputs": [],
   "source": [
    "import lux\n",
    "import pandas as pd\n",
    "import math\n",
    "\n",
    "lux.config.default_display = \"lux\"\n",
    "lux.config.plotting_backend = \"vegalite\"\n",
    "lux.config.plotting_scale = 1.5\n"
   ]
  },
  {
   "cell_type": "code",
   "execution_count": 2,
   "id": "lined-handbook",
   "metadata": {},
   "outputs": [
    {
     "data": {
      "application/vnd.jupyter.widget-view+json": {
       "model_id": "9aad1ed3277a41b49e1ef911e68fcfb1",
       "version_major": 2,
       "version_minor": 0
      },
      "text/plain": [
       "Button(description='Toggle Pandas/Lux', layout=Layout(top='5px', width='140px'), style=ButtonStyle())"
      ]
     },
     "metadata": {},
     "output_type": "display_data"
    },
    {
     "data": {
      "application/vnd.jupyter.widget-view+json": {
       "model_id": "de7733ea501a494eab309c23209588b5",
       "version_major": 2,
       "version_minor": 0
      },
      "text/plain": [
       "Output()"
      ]
     },
     "metadata": {},
     "output_type": "display_data"
    }
   ],
   "source": [
    "df = pd.read_csv(\n",
    "    \"./data/PersonCustomer_Sales.csv\",\n",
    "    usecols=[\n",
    "        'CustomerLabel',\n",
    "        'BirthDate',\n",
    "        'MaritalStatus',\n",
    "        'Gender',\n",
    "        'YearlyIncome',\n",
    "        'TotalChildren',\n",
    "        'Education',\n",
    "        'Occupation',\n",
    "        'HouseOwnerFlag',\n",
    "        'NumberCarsOwned',\n",
    "        'CustomerType',\n",
    "        #sales\n",
    "        'SalesAmount',\n",
    "        'AvgSalesAmount',\n",
    "        'NumberOfOrders',\n",
    "        'FirstPurchaseDate',\n",
    "        'LastPurchaseDate',\n",
    "        'Frequency',\n",
    "        'Recency',\n",
    "        #region\n",
    "        'RegionCountryName'\n",
    "    ], low_memory=False)\n",
    "\n",
    "df['BirthDate'] = pd.to_datetime(df['BirthDate'], format='%Y-%m-%d')\n",
    "df['LastPurchaseDate'] = pd.to_datetime(df['LastPurchaseDate'], format='%Y-%m-%d')\n",
    "df['FirstPurchaseDate'] = pd.to_datetime(df['FirstPurchaseDate'], format='%Y-%m-%d')\n",
    "\n",
    "df.set_data_type({\n",
    "    \"CustomerLabel\": \"id\",\n",
    "    \"YearlyIncome\":\"nominal\"\n",
    "})\n",
    "\n",
    "df"
   ]
  },
  {
   "cell_type": "code",
   "execution_count": 3,
   "id": "statutory-hamburg",
   "metadata": {},
   "outputs": [
    {
     "data": {
      "application/vnd.jupyter.widget-view+json": {
       "model_id": "8355f703871a4ff4921c5bf42d010a99",
       "version_major": 2,
       "version_minor": 0
      },
      "text/plain": [
       "Button(description='Toggle Pandas/Lux', layout=Layout(top='5px', width='140px'), style=ButtonStyle())"
      ]
     },
     "metadata": {},
     "output_type": "display_data"
    },
    {
     "data": {
      "application/vnd.jupyter.widget-view+json": {
       "model_id": "403d5e3ec1ee4e5eb1b5d96f64b0554d",
       "version_major": 2,
       "version_minor": 0
      },
      "text/plain": [
       "Output()"
      ]
     },
     "metadata": {},
     "output_type": "display_data"
    }
   ],
   "source": [
    "df[['Recency', 'Frequency', 'AvgSalesAmount']].describe()"
   ]
  },
  {
   "cell_type": "markdown",
   "id": "light-evanescence",
   "metadata": {},
   "source": [
    "# Recency"
   ]
  },
  {
   "cell_type": "code",
   "execution_count": 4,
   "id": "accurate-customs",
   "metadata": {},
   "outputs": [
    {
     "data": {
      "application/vnd.jupyter.widget-view+json": {
       "model_id": "186b55a58b41436684abcb2df0852f7f",
       "version_major": 2,
       "version_minor": 0
      },
      "text/plain": [
       "Button(description='Toggle Pandas/Lux', layout=Layout(top='5px', width='140px'), style=ButtonStyle())"
      ]
     },
     "metadata": {},
     "output_type": "display_data"
    },
    {
     "data": {
      "application/vnd.jupyter.widget-view+json": {
       "model_id": "487f114b8cb945899efd39862f3f9f3f",
       "version_major": 2,
       "version_minor": 0
      },
      "text/plain": [
       "Output()"
      ]
     },
     "metadata": {},
     "output_type": "display_data"
    }
   ],
   "source": [
    "filtered = df[df['Recency'] < 100]\n",
    "filtered.intent = ['Recency']\n",
    "filtered"
   ]
  },
  {
   "cell_type": "code",
   "execution_count": 5,
   "id": "raising-variation",
   "metadata": {},
   "outputs": [
    {
     "data": {
      "application/vnd.jupyter.widget-view+json": {
       "model_id": "f23bc6af376e4f6a94279a30098476f4",
       "version_major": 2,
       "version_minor": 0
      },
      "text/plain": [
       "Button(description='Toggle Pandas/Lux', layout=Layout(top='5px', width='140px'), style=ButtonStyle())"
      ]
     },
     "metadata": {},
     "output_type": "display_data"
    },
    {
     "data": {
      "application/vnd.jupyter.widget-view+json": {
       "model_id": "0619f4f6709b481e8c5892e10fb8b411",
       "version_major": 2,
       "version_minor": 0
      },
      "text/plain": [
       "Output()"
      ]
     },
     "metadata": {},
     "output_type": "display_data"
    }
   ],
   "source": [
    "def Recency_Metric(recency):\n",
    "    weeks = math.floor(recency/7 + 1)\n",
    "    if weeks <=4:\n",
    "        return str(weeks)\n",
    "    elif weeks <=8:\n",
    "        return \"5 (5-8w)\"\n",
    "    else:\n",
    "        return \"6 (>=9w)\"\n",
    "\n",
    "df['Recency_Metric'] = df.apply(lambda x: Recency_Metric(x['Recency']),axis=1)\n",
    "df.intent = ['Recency_Metric']\n",
    "df"
   ]
  },
  {
   "cell_type": "markdown",
   "id": "unauthorized-purchase",
   "metadata": {},
   "source": [
    "# Frequency"
   ]
  },
  {
   "cell_type": "code",
   "execution_count": 6,
   "id": "genetic-behalf",
   "metadata": {},
   "outputs": [
    {
     "data": {
      "application/vnd.jupyter.widget-view+json": {
       "model_id": "ab70524c572d4a23b940a2ecfab2888e",
       "version_major": 2,
       "version_minor": 0
      },
      "text/plain": [
       "Button(description='Toggle Pandas/Lux', layout=Layout(top='5px', width='140px'), style=ButtonStyle())"
      ]
     },
     "metadata": {},
     "output_type": "display_data"
    },
    {
     "data": {
      "application/vnd.jupyter.widget-view+json": {
       "model_id": "e23037338e99467b982883b916edfaa9",
       "version_major": 2,
       "version_minor": 0
      },
      "text/plain": [
       "Output()"
      ]
     },
     "metadata": {},
     "output_type": "display_data"
    }
   ],
   "source": [
    "df.intent = ['Frequency']\n",
    "df"
   ]
  },
  {
   "cell_type": "code",
   "execution_count": 7,
   "id": "defined-devices",
   "metadata": {},
   "outputs": [
    {
     "data": {
      "application/vnd.jupyter.widget-view+json": {
       "model_id": "c4a33fc8df7a49ba98c852f9604c7aa2",
       "version_major": 2,
       "version_minor": 0
      },
      "text/plain": [
       "Button(description='Toggle Pandas/Lux', layout=Layout(top='5px', width='140px'), style=ButtonStyle())"
      ]
     },
     "metadata": {},
     "output_type": "display_data"
    },
    {
     "data": {
      "application/vnd.jupyter.widget-view+json": {
       "model_id": "11fb60153d6a47db95f2c86140bb4d92",
       "version_major": 2,
       "version_minor": 0
      },
      "text/plain": [
       "Output()"
      ]
     },
     "metadata": {},
     "output_type": "display_data"
    }
   ],
   "source": [
    "def Frequency_Metric(frequency):\n",
    "    weeks = math.floor(frequency/7 + 1)\n",
    "    return weeks\n",
    "\n",
    "df['Frequency_Metric'] = df.apply(lambda x: Frequency_Metric(x['Frequency']),axis=1)\n",
    "df.intent = ['Frequency_Metric']\n",
    "df"
   ]
  },
  {
   "cell_type": "markdown",
   "id": "divine-monitoring",
   "metadata": {},
   "source": [
    "# Monetary"
   ]
  },
  {
   "cell_type": "code",
   "execution_count": 8,
   "id": "antique-corrections",
   "metadata": {},
   "outputs": [
    {
     "data": {
      "application/vnd.jupyter.widget-view+json": {
       "model_id": "86a1c86ed5904269b5981ce114ec3e97",
       "version_major": 2,
       "version_minor": 0
      },
      "text/plain": [
       "Button(description='Toggle Pandas/Lux', layout=Layout(top='5px', width='140px'), style=ButtonStyle())"
      ]
     },
     "metadata": {},
     "output_type": "display_data"
    },
    {
     "data": {
      "application/vnd.jupyter.widget-view+json": {
       "model_id": "40b66405b38c4dc3b5af689603dfe342",
       "version_major": 2,
       "version_minor": 0
      },
      "text/plain": [
       "Output()"
      ]
     },
     "metadata": {},
     "output_type": "display_data"
    }
   ],
   "source": [
    "filtered = df[df['AvgSalesAmount'] < 1000]\n",
    "filtered.intent = ['AvgSalesAmount']\n",
    "filtered"
   ]
  },
  {
   "cell_type": "code",
   "execution_count": 9,
   "id": "genetic-europe",
   "metadata": {},
   "outputs": [
    {
     "data": {
      "application/vnd.jupyter.widget-view+json": {
       "model_id": "6619c9fc11224612aa94720a1f7ccfde",
       "version_major": 2,
       "version_minor": 0
      },
      "text/plain": [
       "Button(description='Toggle Pandas/Lux', layout=Layout(top='5px', width='140px'), style=ButtonStyle())"
      ]
     },
     "metadata": {},
     "output_type": "display_data"
    },
    {
     "data": {
      "application/vnd.jupyter.widget-view+json": {
       "model_id": "ea84d3e975f743c0a8c9229d1df953cf",
       "version_major": 2,
       "version_minor": 0
      },
      "text/plain": [
       "Output()"
      ]
     },
     "metadata": {},
     "output_type": "display_data"
    }
   ],
   "source": [
    "def Monetary_Metric(money):\n",
    "    scale = 250\n",
    "    bins = 3\n",
    "    max_val = scale * bins\n",
    "    if money >= max_val:\n",
    "        return f'{bins+1} [>= {max_val}]'\n",
    "    else:\n",
    "        group = math.floor(money/scale)\n",
    "        return f'{group+1} [{group*scale}, {(group+1)*scale})'\n",
    "\n",
    "df['Monetary_Metric'] = df.apply(lambda x: Monetary_Metric(x['AvgSalesAmount']),axis=1)\n",
    "df.intent = ['Monetary_Metric']\n",
    "df"
   ]
  },
  {
   "cell_type": "code",
   "execution_count": null,
   "id": "unsigned-basis",
   "metadata": {},
   "outputs": [],
   "source": []
  }
 ],
 "metadata": {
  "kernelspec": {
   "display_name": "Python 3",
   "language": "python",
   "name": "python3"
  },
  "language_info": {
   "codemirror_mode": {
    "name": "ipython",
    "version": 3
   },
   "file_extension": ".py",
   "mimetype": "text/x-python",
   "name": "python",
   "nbconvert_exporter": "python",
   "pygments_lexer": "ipython3",
   "version": "3.7.10"
  }
 },
 "nbformat": 4,
 "nbformat_minor": 5
}
