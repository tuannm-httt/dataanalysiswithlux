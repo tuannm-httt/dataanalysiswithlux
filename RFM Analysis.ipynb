{
 "cells": [
  {
   "cell_type": "code",
   "execution_count": 1,
   "id": "revolutionary-purse",
   "metadata": {},
   "outputs": [],
   "source": [
    "import lux\n",
    "import pandas as pd"
   ]
  },
  {
   "cell_type": "code",
   "execution_count": 3,
   "id": "lined-handbook",
   "metadata": {},
   "outputs": [
    {
     "data": {
      "application/vnd.jupyter.widget-view+json": {
       "model_id": "272b1059482643e881d1c5a477cc236f",
       "version_major": 2,
       "version_minor": 0
      },
      "text/plain": [
       "Button(description='Toggle Pandas/Lux', layout=Layout(top='5px', width='140px'), style=ButtonStyle())"
      ]
     },
     "metadata": {},
     "output_type": "display_data"
    },
    {
     "data": {
      "application/vnd.jupyter.widget-view+json": {
       "model_id": "9315ccb1b3e344b086b693235ae6aca3",
       "version_major": 2,
       "version_minor": 0
      },
      "text/plain": [
       "Output()"
      ]
     },
     "metadata": {},
     "output_type": "display_data"
    }
   ],
   "source": [
    "df = pd.read_csv(\n",
    "    \"./data/PersonCustomer_Sales.csv\",\n",
    "    usecols=[\n",
    "        'CustomerLabel',\n",
    "        'BirthDate',\n",
    "        'MaritalStatus',\n",
    "        'Gender',\n",
    "        'YearlyIncome',\n",
    "        'TotalChildren',\n",
    "        'Education',\n",
    "        'Occupation',\n",
    "        'HouseOwnerFlag',\n",
    "        'NumberCarsOwned',\n",
    "        'CustomerType',\n",
    "        #sales\n",
    "        'SalesAmount',\n",
    "        'AvgSalesAmount',\n",
    "        'NumberOfOrders',\n",
    "        'FirstPurchaseDate',\n",
    "        'LastPurchaseDate',\n",
    "        'Frequency',\n",
    "        'Recency',\n",
    "        #region\n",
    "        'RegionCountryName'\n",
    "    ], low_memory=False)\n",
    "\n",
    "df['BirthDate'] = pd.to_datetime(df['BirthDate'], format='%Y-%m-%d')\n",
    "df['LastPurchaseDate'] = pd.to_datetime(df['LastPurchaseDate'], format='%Y-%m-%d')\n",
    "df['FirstPurchaseDate'] = pd.to_datetime(df['FirstPurchaseDate'], format='%Y-%m-%d')\n",
    "\n",
    "df.set_data_type({\n",
    "    \"CustomerLabel\": \"id\",\n",
    "    \"YearlyIncome\":\"nominal\"\n",
    "})\n",
    "\n",
    "df"
   ]
  },
  {
   "cell_type": "code",
   "execution_count": null,
   "id": "statutory-hamburg",
   "metadata": {},
   "outputs": [],
   "source": []
  }
 ],
 "metadata": {
  "kernelspec": {
   "display_name": "Python 3",
   "language": "python",
   "name": "python3"
  },
  "language_info": {
   "codemirror_mode": {
    "name": "ipython",
    "version": 3
   },
   "file_extension": ".py",
   "mimetype": "text/x-python",
   "name": "python",
   "nbconvert_exporter": "python",
   "pygments_lexer": "ipython3",
   "version": "3.7.10"
  }
 },
 "nbformat": 4,
 "nbformat_minor": 5
}
