{
 "cells": [
  {
   "cell_type": "code",
   "execution_count": 1,
   "id": "059bef57-0ad4-415e-8f7b-f08a428d19ec",
   "metadata": {},
   "outputs": [],
   "source": [
    "import lux\n",
    "import pandas as pd\n",
    "import math\n",
    "\n",
    "lux.config.default_display = \"lux\"\n",
    "lux.config.plotting_backend = \"vegalite\"\n",
    "lux.config.plotting_scale = 1.2"
   ]
  },
  {
   "cell_type": "code",
   "execution_count": 2,
   "id": "767bdda3-80fb-4301-8a4b-f372904ebf8c",
   "metadata": {},
   "outputs": [
    {
     "data": {
      "application/vnd.jupyter.widget-view+json": {
       "model_id": "a0a650acbf7a44939c6d777509bd8fb4",
       "version_major": 2,
       "version_minor": 0
      },
      "text/plain": [
       "Button(description='Toggle Pandas/Lux', layout=Layout(top='5px', width='140px'), style=ButtonStyle())"
      ]
     },
     "metadata": {},
     "output_type": "display_data"
    },
    {
     "data": {
      "application/vnd.jupyter.widget-view+json": {
       "model_id": "b55919ec7c134166b099e0caee8536c3",
       "version_major": 2,
       "version_minor": 0
      },
      "text/plain": [
       "Output()"
      ]
     },
     "metadata": {},
     "output_type": "display_data"
    }
   ],
   "source": [
    "df = pd.read_csv(\n",
    "    \"./data/Customer.csv\",\n",
    "    usecols=[\n",
    "        'CustomerLabel',\n",
    "        'BirthDate',\n",
    "        'MaritalStatus',\n",
    "        'Gender',\n",
    "        'YearlyIncome',\n",
    "        'TotalChildren',\n",
    "        'Education',\n",
    "        'Occupation',\n",
    "        'HouseOwnerFlag',\n",
    "        'NumberCarsOwned',\n",
    "        'CustomerType',\n",
    "    ], low_memory=False)\n",
    "\n",
    "df['BirthDate'] = pd.to_datetime(df['BirthDate'], format='%Y-%m-%d')\n",
    "\n",
    "df.set_data_type({\n",
    "    \"CustomerLabel\": \"id\",\n",
    "    \"YearlyIncome\":\"nominal\"\n",
    "})\n",
    "\n",
    "df"
   ]
  },
  {
   "cell_type": "code",
   "execution_count": 3,
   "id": "2aafa90d-8f2c-47a2-b97e-7e47777372ed",
   "metadata": {},
   "outputs": [
    {
     "data": {
      "application/vnd.jupyter.widget-view+json": {
       "model_id": "15343e742bfc48e7be8edcd9fb8d0f30",
       "version_major": 2,
       "version_minor": 0
      },
      "text/plain": [
       "Button(description='Toggle Pandas/Lux', layout=Layout(top='5px', width='140px'), style=ButtonStyle())"
      ]
     },
     "metadata": {},
     "output_type": "display_data"
    },
    {
     "data": {
      "application/vnd.jupyter.widget-view+json": {
       "model_id": "285225cafed14111852d75daf1e937e4",
       "version_major": 2,
       "version_minor": 0
      },
      "text/plain": [
       "Output()"
      ]
     },
     "metadata": {},
     "output_type": "display_data"
    }
   ],
   "source": [
    "person = df[df['CustomerType']=='Person']\n",
    "person"
   ]
  },
  {
   "cell_type": "code",
   "execution_count": 4,
   "id": "cb12cb5d-dac7-41fb-a012-db48f1f26924",
   "metadata": {},
   "outputs": [
    {
     "data": {
      "application/vnd.jupyter.widget-view+json": {
       "model_id": "9d94966746a847ab8f3a0c15540c76df",
       "version_major": 2,
       "version_minor": 0
      },
      "text/plain": [
       "Button(description='Toggle Pandas/Lux', layout=Layout(top='5px', width='140px'), style=ButtonStyle())"
      ]
     },
     "metadata": {},
     "output_type": "display_data"
    },
    {
     "data": {
      "application/vnd.jupyter.widget-view+json": {
       "model_id": "08fff575df064256b72a829069cc8476",
       "version_major": 2,
       "version_minor": 0
      },
      "text/plain": [
       "Output()"
      ]
     },
     "metadata": {},
     "output_type": "display_data"
    }
   ],
   "source": [
    "person.intent =[\"HouseOwnerFlag\"]\n",
    "person"
   ]
  },
  {
   "cell_type": "code",
   "execution_count": 5,
   "id": "f49d184b-577c-46ef-bd4b-e4aeab50073a",
   "metadata": {},
   "outputs": [
    {
     "data": {
      "application/vnd.jupyter.widget-view+json": {
       "model_id": "98c86574b47e46c8bbac82257ff75add",
       "version_major": 2,
       "version_minor": 0
      },
      "text/plain": [
       "Button(description='Toggle Pandas/Lux', layout=Layout(top='5px', width='140px'), style=ButtonStyle())"
      ]
     },
     "metadata": {},
     "output_type": "display_data"
    },
    {
     "data": {
      "application/vnd.jupyter.widget-view+json": {
       "model_id": "5a35f88840e947afa686617ba0aee3ff",
       "version_major": 2,
       "version_minor": 0
      },
      "text/plain": [
       "Output()"
      ]
     },
     "metadata": {},
     "output_type": "display_data"
    }
   ],
   "source": [
    "person.intent =[\"YearlyIncome\"]\n",
    "person"
   ]
  },
  {
   "cell_type": "code",
   "execution_count": null,
   "id": "4b6dea37-761c-4e3a-8fb9-3abf966b036e",
   "metadata": {},
   "outputs": [],
   "source": []
  }
 ],
 "metadata": {
  "kernelspec": {
   "display_name": "Python 3 (ipykernel)",
   "language": "python",
   "name": "python3"
  },
  "language_info": {
   "codemirror_mode": {
    "name": "ipython",
    "version": 3
   },
   "file_extension": ".py",
   "mimetype": "text/x-python",
   "name": "python",
   "nbconvert_exporter": "python",
   "pygments_lexer": "ipython3",
   "version": "3.7.10"
  }
 },
 "nbformat": 4,
 "nbformat_minor": 5
}
